{
  "nbformat": 4,
  "nbformat_minor": 0,
  "metadata": {
    "colab": {
      "provenance": []
    },
    "kernelspec": {
      "name": "python3",
      "display_name": "Python 3"
    },
    "language_info": {
      "name": "python"
    }
  },
  "cells": [
    {
      "cell_type": "markdown",
      "source": [
        "<h1>Download websites with BeautifulSoup</h1>"
      ],
      "metadata": {
        "id": "UND7UjxyErky"
      }
    },
    {
      "cell_type": "code",
      "source": [
        "import requests\n",
        "from bs4 import BeautifulSoup"
      ],
      "metadata": {
        "id": "8PZZT6Ha6XIE"
      },
      "execution_count": 7,
      "outputs": []
    },
    {
      "cell_type": "code",
      "execution_count": 8,
      "metadata": {
        "id": "D9sVaGEk-dds"
      },
      "outputs": [],
      "source": [
        "# links of sites with relevant content\n",
        "links = [\n",
        "\"https://www.simplilearn.com/tutorials/machine-learning-tutorial/machine-learning-interview-questions\", \n",
        "\"https://www.interviewbit.com/machine-learning-interview-questions/\",\n",
        "\"https://www.mygreatlearning.com/blog/machine-learning-interview-questions/\",\n",
        "\"https://www.javatpoint.com/machine-learning-interview-questions\",\n",
        "\"https://www.springboard.com/blog/data-science/machine-learning-interview-questions/\",\n",
        "\"https://intellipaat.com/blog/interview-question/machine-learning-interview-questions/\",\n",
        "]"
      ]
    },
    {
      "cell_type": "code",
      "source": [
        "# write content of the links to text files\n",
        "for i, link in enumerate(links):\n",
        "    page = requests.get(link)\n",
        "    soup = BeautifulSoup(page.content,'html.parser')\n",
        "    with open(f\"file_{i}.html\", 'w') as f:\n",
        "        f.write(str(soup))"
      ],
      "metadata": {
        "id": "_vCdtWYe6aQt"
      },
      "execution_count": 9,
      "outputs": []
    },
    {
      "cell_type": "markdown",
      "source": [
        "END"
      ],
      "metadata": {
        "id": "xtMy1evCEbCb"
      }
    }
  ]
}