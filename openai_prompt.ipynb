{
  "nbformat": 4,
  "nbformat_minor": 0,
  "metadata": {
    "colab": {
      "provenance": []
    },
    "kernelspec": {
      "name": "python3",
      "display_name": "Python 3"
    },
    "language_info": {
      "name": "python"
    }
  },
  "cells": [
    {
      "cell_type": "code",
      "execution_count": 1,
      "metadata": {
        "colab": {
          "base_uri": "https://localhost:8080/"
        },
        "id": "viWGpiRrL4fe",
        "outputId": "f9dd24bf-718d-4e6e-fa76-902429827a15"
      },
      "outputs": [
        {
          "output_type": "stream",
          "name": "stdout",
          "text": [
            "Looking in indexes: https://pypi.org/simple, https://us-python.pkg.dev/colab-wheels/public/simple/\n",
            "Requirement already satisfied: openai in /usr/local/lib/python3.10/dist-packages (0.27.7)\n",
            "Requirement already satisfied: requests>=2.20 in /usr/local/lib/python3.10/dist-packages (from openai) (2.27.1)\n",
            "Requirement already satisfied: tqdm in /usr/local/lib/python3.10/dist-packages (from openai) (4.65.0)\n",
            "Requirement already satisfied: aiohttp in /usr/local/lib/python3.10/dist-packages (from openai) (3.8.4)\n",
            "Requirement already satisfied: urllib3<1.27,>=1.21.1 in /usr/local/lib/python3.10/dist-packages (from requests>=2.20->openai) (1.26.15)\n",
            "Requirement already satisfied: certifi>=2017.4.17 in /usr/local/lib/python3.10/dist-packages (from requests>=2.20->openai) (2022.12.7)\n",
            "Requirement already satisfied: charset-normalizer~=2.0.0 in /usr/local/lib/python3.10/dist-packages (from requests>=2.20->openai) (2.0.12)\n",
            "Requirement already satisfied: idna<4,>=2.5 in /usr/local/lib/python3.10/dist-packages (from requests>=2.20->openai) (3.4)\n",
            "Requirement already satisfied: attrs>=17.3.0 in /usr/local/lib/python3.10/dist-packages (from aiohttp->openai) (23.1.0)\n",
            "Requirement already satisfied: multidict<7.0,>=4.5 in /usr/local/lib/python3.10/dist-packages (from aiohttp->openai) (6.0.4)\n",
            "Requirement already satisfied: async-timeout<5.0,>=4.0.0a3 in /usr/local/lib/python3.10/dist-packages (from aiohttp->openai) (4.0.2)\n",
            "Requirement already satisfied: yarl<2.0,>=1.0 in /usr/local/lib/python3.10/dist-packages (from aiohttp->openai) (1.9.2)\n",
            "Requirement already satisfied: frozenlist>=1.1.1 in /usr/local/lib/python3.10/dist-packages (from aiohttp->openai) (1.3.3)\n",
            "Requirement already satisfied: aiosignal>=1.1.2 in /usr/local/lib/python3.10/dist-packages (from aiohttp->openai) (1.3.1)\n"
          ]
        }
      ],
      "source": [
        "!pip install openai"
      ]
    },
    {
      "cell_type": "markdown",
      "source": [
        "<b>General query</b>"
      ],
      "metadata": {
        "id": "iF77xaA8e-S7"
      }
    },
    {
      "cell_type": "code",
      "source": [
        "import openai\n",
        "openai.api_key = \"#####\"\n",
        "\n",
        "prompt = \"Hello, my name is Artem and I am a software engineer.\"\n",
        "model = \"text-davinci-003\"\n",
        "response = openai.Completion.create(engine=model, prompt=prompt, max_tokens=50)\n",
        "\n",
        "generated_text = response.choices[0].text\n",
        "print(generated_text)"
      ],
      "metadata": {
        "colab": {
          "base_uri": "https://localhost:8080/"
        },
        "id": "6iDn9OeEMCt9",
        "outputId": "7052b8ce-592b-42e3-9600-142e00262e6e"
      },
      "execution_count": 2,
      "outputs": [
        {
          "output_type": "stream",
          "name": "stdout",
          "text": [
            "\n",
            "\n",
            "I have been developing software for the past 8 years, mainly specializing in web development and cloud technologies. I am currently working with Node.js and React. I'm also experienced in blockchain development, DevOps, and security. In my free\n"
          ]
        }
      ]
    },
    {
      "cell_type": "markdown",
      "source": [
        "<b>Guided queries</b>"
      ],
      "metadata": {
        "id": "Wm7XDIpAfLn-"
      }
    },
    {
      "cell_type": "code",
      "source": [
        "prompt = \"\"\"\n",
        "The following is an ML engineer interview. Interviewee should ask 3 the most \\\n",
        "wide-spread technical questions about machine learning.\n",
        "\n",
        "Interviewee: Hello, my name is Artem and I am a software engineer.\n",
        "Interviewer:\n",
        "\"\"\"\n",
        "\n",
        "\n",
        "model = \"text-davinci-003\"\n",
        "response = openai.Completion.create(\n",
        "    engine=model, prompt=prompt, max_tokens=100, temperature=0.3)\n",
        "\n",
        "generated_text = response.choices[0].text\n",
        "print(generated_text)"
      ],
      "metadata": {
        "colab": {
          "base_uri": "https://localhost:8080/"
        },
        "id": "8lEbivTlealw",
        "outputId": "8aa7822f-0fb8-4c86-d9d7-02b26e36a177"
      },
      "execution_count": 3,
      "outputs": [
        {
          "output_type": "stream",
          "name": "stdout",
          "text": [
            "\n",
            "Nice to meet you Artem. What kind of questions do you have about machine learning?\n",
            "\n",
            "1. What are the most commonly used algorithms in machine learning?\n",
            "2. What are the most important considerations when choosing an algorithm for a particular problem?\n",
            "3. How can we evaluate the performance of a machine learning model?\n"
          ]
        }
      ]
    },
    {
      "cell_type": "code",
      "source": [
        "questions = generated_text\n",
        "prompt =f\"\"\"\n",
        "The following is an ML engineer interview. Enterviewee asked 3 the most \\\n",
        "wide-spread technical questions about machine learning. Interviewer should \\\n",
        "answer all the questions - {questions} - 25 words maximum for each answer.\n",
        "\n",
        "Interviewee: {questions}\n",
        "Interviewer:\n",
        "\"\"\"\n",
        "\n",
        "\n",
        "model = \"text-davinci-003\"\n",
        "response = openai.Completion.create(\n",
        "    engine=model, prompt=prompt, max_tokens=100, temperature=0.3)\n",
        "\n",
        "generated_text = response.choices[0].text\n",
        "print(generated_text)"
      ],
      "metadata": {
        "colab": {
          "base_uri": "https://localhost:8080/"
        },
        "id": "g2CSoIBPeaQS",
        "outputId": "147a8bc8-cf0e-4f6b-a1ea-d48bf76367a2"
      },
      "execution_count": 4,
      "outputs": [
        {
          "output_type": "stream",
          "name": "stdout",
          "text": [
            "1. The most commonly used algorithms in machine learning are decision trees, random forests, support vector machines, and neural networks.\n",
            "2. When choosing an algorithm for a particular problem, important considerations include the type of data, the complexity of the problem, and the desired accuracy of the model.\n",
            "3. Performance of a machine learning model can be evaluated using metrics such as accuracy, precision, recall, and F1 score.\n"
          ]
        }
      ]
    },
    {
      "cell_type": "markdown",
      "source": [
        "END"
      ],
      "metadata": {
        "id": "8Ti7YH1OQ6Yq"
      }
    }
  ]
}