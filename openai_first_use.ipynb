{
  "nbformat": 4,
  "nbformat_minor": 0,
  "metadata": {
    "colab": {
      "provenance": []
    },
    "kernelspec": {
      "name": "python3",
      "display_name": "Python 3"
    },
    "language_info": {
      "name": "python"
    }
  },
  "cells": [
    {
      "cell_type": "markdown",
      "source": [
        "https://pieriantraining.com/the-complete-guide-for-using-the-openai-python-api/"
      ],
      "metadata": {
        "id": "4oHg_poCL_Jd"
      }
    },
    {
      "cell_type": "code",
      "execution_count": 1,
      "metadata": {
        "colab": {
          "base_uri": "https://localhost:8080/"
        },
        "id": "viWGpiRrL4fe",
        "outputId": "f5911399-29bd-447a-c05a-81ecaeaf3c7a"
      },
      "outputs": [
        {
          "output_type": "stream",
          "name": "stdout",
          "text": [
            "Looking in indexes: https://pypi.org/simple, https://us-python.pkg.dev/colab-wheels/public/simple/\n",
            "Requirement already satisfied: openai in /usr/local/lib/python3.10/dist-packages (0.27.5)\n",
            "Requirement already satisfied: requests>=2.20 in /usr/local/lib/python3.10/dist-packages (from openai) (2.27.1)\n",
            "Requirement already satisfied: tqdm in /usr/local/lib/python3.10/dist-packages (from openai) (4.65.0)\n",
            "Requirement already satisfied: aiohttp in /usr/local/lib/python3.10/dist-packages (from openai) (3.8.4)\n",
            "Requirement already satisfied: certifi>=2017.4.17 in /usr/local/lib/python3.10/dist-packages (from requests>=2.20->openai) (2022.12.7)\n",
            "Requirement already satisfied: urllib3<1.27,>=1.21.1 in /usr/local/lib/python3.10/dist-packages (from requests>=2.20->openai) (1.26.15)\n",
            "Requirement already satisfied: charset-normalizer~=2.0.0 in /usr/local/lib/python3.10/dist-packages (from requests>=2.20->openai) (2.0.12)\n",
            "Requirement already satisfied: idna<4,>=2.5 in /usr/local/lib/python3.10/dist-packages (from requests>=2.20->openai) (3.4)\n",
            "Requirement already satisfied: yarl<2.0,>=1.0 in /usr/local/lib/python3.10/dist-packages (from aiohttp->openai) (1.9.2)\n",
            "Requirement already satisfied: frozenlist>=1.1.1 in /usr/local/lib/python3.10/dist-packages (from aiohttp->openai) (1.3.3)\n",
            "Requirement already satisfied: attrs>=17.3.0 in /usr/local/lib/python3.10/dist-packages (from aiohttp->openai) (23.1.0)\n",
            "Requirement already satisfied: async-timeout<5.0,>=4.0.0a3 in /usr/local/lib/python3.10/dist-packages (from aiohttp->openai) (4.0.2)\n",
            "Requirement already satisfied: multidict<7.0,>=4.5 in /usr/local/lib/python3.10/dist-packages (from aiohttp->openai) (6.0.4)\n",
            "Requirement already satisfied: aiosignal>=1.1.2 in /usr/local/lib/python3.10/dist-packages (from aiohttp->openai) (1.3.1)\n"
          ]
        }
      ],
      "source": [
        "!pip install openai"
      ]
    },
    {
      "cell_type": "markdown",
      "source": [
        "<b>General query</b>"
      ],
      "metadata": {
        "id": "iF77xaA8e-S7"
      }
    },
    {
      "cell_type": "code",
      "source": [
        "import openai\n",
        "openai.api_key = \"####\"\n",
        "\n",
        "prompt = \"Hello, my name is Artem and I am a software engineer.\"\n",
        "model = \"text-davinci-003\"\n",
        "response = openai.Completion.create(engine=model, prompt=prompt, max_tokens=50)\n",
        "\n",
        "generated_text = response.choices[0].text\n",
        "print(generated_text)"
      ],
      "metadata": {
        "colab": {
          "base_uri": "https://localhost:8080/"
        },
        "id": "6iDn9OeEMCt9",
        "outputId": "0acf5877-d1f3-4c22-fc47-ea9ea60dd4e3"
      },
      "execution_count": 2,
      "outputs": [
        {
          "output_type": "stream",
          "name": "stdout",
          "text": [
            " I specialize in web development and mobile app development. I have worked on many different projects, ranging from web and mobile applications to websites and desktop applications. I have a passion for learning new technologies and exploring different programming languages.\n"
          ]
        }
      ]
    },
    {
      "cell_type": "markdown",
      "source": [
        "<b>Guided queries</b>"
      ],
      "metadata": {
        "id": "Wm7XDIpAfLn-"
      }
    },
    {
      "cell_type": "code",
      "source": [
        "prompt = \"\"\"\n",
        "The following is an ML engineer interview. Interviewee should ask 3 the most \\\n",
        "wide-spread technical questions about machine learning.\n",
        "\n",
        "Interviewee: Hello, my name is Artem and I am a software engineer.\n",
        "Interviewer:\n",
        "\"\"\"\n",
        "\n",
        "\n",
        "model = \"text-davinci-003\"\n",
        "response = openai.Completion.create(engine=model, prompt=prompt, max_tokens=100)\n",
        "\n",
        "generated_text = response.choices[0].text\n",
        "print(generated_text)"
      ],
      "metadata": {
        "colab": {
          "base_uri": "https://localhost:8080/"
        },
        "id": "8lEbivTlealw",
        "outputId": "af598892-98f4-428e-f685-18dfcd92483a"
      },
      "execution_count": 3,
      "outputs": [
        {
          "output_type": "stream",
          "name": "stdout",
          "text": [
            "\n",
            "1) What do you think are the most important concepts in Machine Learning?\n",
            "2) What is the best way to evaluate and measure the performance of a Machine Learning model?\n",
            "3) What techniques do you use to reduce the risk of overfitting in a Machine Learning model?\n"
          ]
        }
      ]
    },
    {
      "cell_type": "code",
      "source": [
        "questions = generated_text\n",
        "prompt =f\"\"\"\n",
        "The following is an ML engineer interview. Enterviewee asked 3 the most \\\n",
        "wide-spread technical questions about machine learning. Interviewer should \\\n",
        "answer all the questions - {questions} - 25 words maximum for each answer.\n",
        "\n",
        "Interviewee: {questions}\n",
        "Interviewer:\n",
        "\"\"\"\n",
        "\n",
        "\n",
        "model = \"text-davinci-003\"\n",
        "response = openai.Completion.create(engine=model, prompt=prompt, max_tokens=100)\n",
        "\n",
        "generated_text = response.choices[0].text\n",
        "print(generated_text)"
      ],
      "metadata": {
        "colab": {
          "base_uri": "https://localhost:8080/"
        },
        "id": "g2CSoIBPeaQS",
        "outputId": "a993ba41-03e7-4fc1-e04f-0a7c08da8b4f"
      },
      "execution_count": 4,
      "outputs": [
        {
          "output_type": "stream",
          "name": "stdout",
          "text": [
            "1) The most important concepts in Machine Learning are supervised/unsupervised learning, training/testing datasets, model optimization, and parameter tuning.\n",
            "2) The best way to evaluate and measure the performance of a Machine Learning model is to compare the model's predictions to real-world data to see how well they match up. \n",
            "3) Techniques used to reduce the risk of overfitting in a Machine Learning model include cross-validation, regularization, and data augmentation.\n"
          ]
        }
      ]
    },
    {
      "cell_type": "markdown",
      "source": [
        "END"
      ],
      "metadata": {
        "id": "8Ti7YH1OQ6Yq"
      }
    }
  ]
}